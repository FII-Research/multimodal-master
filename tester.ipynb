{
 "cells": [
  {
   "cell_type": "code",
   "execution_count": 8,
   "metadata": {},
   "outputs": [],
   "source": [
    "import os\n",
    "import torch\n",
    "from PIL import Image\n",
    "import matplotlib.pyplot as plt\n",
    "from torchvision import transforms\n",
    "from utils import caption_image\n",
    "from model import CNN_to_LSTM\n",
    "from preprocess import get_loader"
   ]
  },
  {
   "cell_type": "code",
   "execution_count": null,
   "metadata": {},
   "outputs": [],
   "source": [
    "import torch\n",
    "from huggingface_hub import hf_hub_download\n",
    "\n",
    "# Download model checkpoint from Hugging Face\n",
    "checkpoint_path = hf_hub_download(\n",
    "    repo_id=\"sohumgautam/captioning-cnn-lstm\",\n",
    "    filename=\"pytorch_model.bin\"\n",
    ")\n",
    "\n",
    "# Initialize the model\n",
    "model = CNN_to_LSTM(embed_size=256, hidden_size=512, num_layers=2, vocab_size=5240)\n",
    "model.load_state_dict(torch.load(checkpoint_path, map_location=\"cpu\"))\n",
    "model.eval()\n"
   ]
  },
  {
   "cell_type": "code",
   "execution_count": null,
   "metadata": {},
   "outputs": [],
   "source": [
    "\n",
    "def test_specific_images(image_folder, dataset_path, captions_file, device):\n",
    "    # Define image preprocessing (same as training)\n",
    "    transform = transforms.Compose([\n",
    "        transforms.Resize((224, 224)),\n",
    "        transforms.ToTensor(),\n",
    "        transforms.Normalize(mean=[0.485, 0.456, 0.406], std=[0.229, 0.224, 0.225]),\n",
    "    ])\n",
    "    \n",
    "    # Get the dataset (just to access the vocabulary)\n",
    "    _, dataset = get_loader(\n",
    "        root_dir=dataset_path,\n",
    "        captions_file=captions_file,\n",
    "        transform=transform,\n",
    "        batch_size=1  # Doesn't matter here\n",
    "    )\n",
    "    \n",
    "    # Access the vocabulary from the dataset\n",
    "    vocab = dataset.vocab\n",
    "    \n",
    "    # Process each image in the folder\n",
    "    for filename in ['boy.png', 'boat.png', 'dog.jpg', 'horse.png', 'biker.jpg', 'man_bench.jpg']:\n",
    "            # Load and process image\n",
    "            img_path = os.path.join(image_folder, filename)\n",
    "            image = Image.open(img_path).convert(\"RGB\")\n",
    "            image_tensor = transform(image).unsqueeze(0).to(device)\n",
    "            \n",
    "            # Generate caption\n",
    "            generated_caption = caption_image(model, image_tensor, vocab)\n",
    "            caption_text = \" \".join(generated_caption)\n",
    "            \n",
    "            # Display results\n",
    "            print(f\"Image: {filename}\")\n",
    "            print(f\"Caption: {caption_text}\")\n",
    "            print(\"-\" * 50)\n",
    "            \n",
    "            # Optionally save the captioned image\n",
    "            plt.figure(figsize=(8, 8))\n",
    "            plt.imshow(image)\n",
    "            plt.title(caption_text)\n",
    "            plt.axis('off')\n",
    "            plt.savefig(os.path.join(image_folder, f\"captioned_{filename}\"))\n",
    "            plt.close()\n",
    "\n"
   ]
  },
  {
   "cell_type": "code",
   "execution_count": null,
   "metadata": {},
   "outputs": [],
   "source": [
    "# Parameters\n",
    "test_image_folder = \"test_images\"  # Folder with your 4 test images\n",
    "dataset_path = \"data/images/\"  # Original training images path\n",
    "captions_file = \"data/text.csv\"  # Original captions file\n",
    "device = torch.device(\"cuda\" if torch.cuda.is_available() else \"cpu\")\n",
    "\n",
    "# Run test\n",
    "test_specific_images(test_image_folder, dataset_path, captions_file, device)"
   ]
  },
  {
   "cell_type": "code",
   "execution_count": null,
   "metadata": {},
   "outputs": [],
   "source": []
  },
  {
   "cell_type": "code",
   "execution_count": null,
   "metadata": {},
   "outputs": [],
   "source": []
  }
 ],
 "metadata": {
  "kernelspec": {
   "display_name": ".venv",
   "language": "python",
   "name": "python3"
  },
  "language_info": {
   "codemirror_mode": {
    "name": "ipython",
    "version": 3
   },
   "file_extension": ".py",
   "mimetype": "text/x-python",
   "name": "python",
   "nbconvert_exporter": "python",
   "pygments_lexer": "ipython3",
   "version": "3.12.11"
  }
 },
 "nbformat": 4,
 "nbformat_minor": 2
}
